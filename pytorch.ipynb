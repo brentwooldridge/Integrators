{
  "nbformat": 4,
  "nbformat_minor": 0,
  "metadata": {
    "colab": {
      "provenance": [],
      "collapsed_sections": []
    },
    "kernelspec": {
      "name": "python3",
      "display_name": "Python 3"
    },
    "language_info": {
      "name": "python"
    },
    "widgets": {
      "application/vnd.jupyter.widget-state+json": {
        "d0c137c70d5243dd8b9e1e0709e50858": {
          "model_module": "@jupyter-widgets/controls",
          "model_name": "HBoxModel",
          "model_module_version": "1.5.0",
          "state": {
            "_dom_classes": [],
            "_model_module": "@jupyter-widgets/controls",
            "_model_module_version": "1.5.0",
            "_model_name": "HBoxModel",
            "_view_count": null,
            "_view_module": "@jupyter-widgets/controls",
            "_view_module_version": "1.5.0",
            "_view_name": "HBoxView",
            "box_style": "",
            "children": [
              "IPY_MODEL_06cf274e877344719fcd9d0dcbc8cce9",
              "IPY_MODEL_8511029b1db845d4a907192cbf7177aa",
              "IPY_MODEL_a76a4c3066fe4816ba019fbe661634f0"
            ],
            "layout": "IPY_MODEL_5fd42e3a0a944b97b1dabb97ac75fafe"
          }
        },
        "06cf274e877344719fcd9d0dcbc8cce9": {
          "model_module": "@jupyter-widgets/controls",
          "model_name": "HTMLModel",
          "model_module_version": "1.5.0",
          "state": {
            "_dom_classes": [],
            "_model_module": "@jupyter-widgets/controls",
            "_model_module_version": "1.5.0",
            "_model_name": "HTMLModel",
            "_view_count": null,
            "_view_module": "@jupyter-widgets/controls",
            "_view_module_version": "1.5.0",
            "_view_name": "HTMLView",
            "description": "",
            "description_tooltip": null,
            "layout": "IPY_MODEL_a889bd75f5a34520975155320ca8d260",
            "placeholder": "​",
            "style": "IPY_MODEL_2b764e55c61f4cdc88d66d75db1c6ea9",
            "value": "100%"
          }
        },
        "8511029b1db845d4a907192cbf7177aa": {
          "model_module": "@jupyter-widgets/controls",
          "model_name": "FloatProgressModel",
          "model_module_version": "1.5.0",
          "state": {
            "_dom_classes": [],
            "_model_module": "@jupyter-widgets/controls",
            "_model_module_version": "1.5.0",
            "_model_name": "FloatProgressModel",
            "_view_count": null,
            "_view_module": "@jupyter-widgets/controls",
            "_view_module_version": "1.5.0",
            "_view_name": "ProgressView",
            "bar_style": "success",
            "description": "",
            "description_tooltip": null,
            "layout": "IPY_MODEL_d80901c13fec4505a1ee8fd0b6c42e2b",
            "max": 170498071,
            "min": 0,
            "orientation": "horizontal",
            "style": "IPY_MODEL_e6085767ac0742b4b1667499dece7fe4",
            "value": 170498071
          }
        },
        "a76a4c3066fe4816ba019fbe661634f0": {
          "model_module": "@jupyter-widgets/controls",
          "model_name": "HTMLModel",
          "model_module_version": "1.5.0",
          "state": {
            "_dom_classes": [],
            "_model_module": "@jupyter-widgets/controls",
            "_model_module_version": "1.5.0",
            "_model_name": "HTMLModel",
            "_view_count": null,
            "_view_module": "@jupyter-widgets/controls",
            "_view_module_version": "1.5.0",
            "_view_name": "HTMLView",
            "description": "",
            "description_tooltip": null,
            "layout": "IPY_MODEL_82f1ddfb140243b5898415e001df820d",
            "placeholder": "​",
            "style": "IPY_MODEL_ce8c763e15fc43aa884627e1faadaa41",
            "value": " 170498071/170498071 [00:10&lt;00:00, 18667967.91it/s]"
          }
        },
        "5fd42e3a0a944b97b1dabb97ac75fafe": {
          "model_module": "@jupyter-widgets/base",
          "model_name": "LayoutModel",
          "model_module_version": "1.2.0",
          "state": {
            "_model_module": "@jupyter-widgets/base",
            "_model_module_version": "1.2.0",
            "_model_name": "LayoutModel",
            "_view_count": null,
            "_view_module": "@jupyter-widgets/base",
            "_view_module_version": "1.2.0",
            "_view_name": "LayoutView",
            "align_content": null,
            "align_items": null,
            "align_self": null,
            "border": null,
            "bottom": null,
            "display": null,
            "flex": null,
            "flex_flow": null,
            "grid_area": null,
            "grid_auto_columns": null,
            "grid_auto_flow": null,
            "grid_auto_rows": null,
            "grid_column": null,
            "grid_gap": null,
            "grid_row": null,
            "grid_template_areas": null,
            "grid_template_columns": null,
            "grid_template_rows": null,
            "height": null,
            "justify_content": null,
            "justify_items": null,
            "left": null,
            "margin": null,
            "max_height": null,
            "max_width": null,
            "min_height": null,
            "min_width": null,
            "object_fit": null,
            "object_position": null,
            "order": null,
            "overflow": null,
            "overflow_x": null,
            "overflow_y": null,
            "padding": null,
            "right": null,
            "top": null,
            "visibility": null,
            "width": null
          }
        },
        "a889bd75f5a34520975155320ca8d260": {
          "model_module": "@jupyter-widgets/base",
          "model_name": "LayoutModel",
          "model_module_version": "1.2.0",
          "state": {
            "_model_module": "@jupyter-widgets/base",
            "_model_module_version": "1.2.0",
            "_model_name": "LayoutModel",
            "_view_count": null,
            "_view_module": "@jupyter-widgets/base",
            "_view_module_version": "1.2.0",
            "_view_name": "LayoutView",
            "align_content": null,
            "align_items": null,
            "align_self": null,
            "border": null,
            "bottom": null,
            "display": null,
            "flex": null,
            "flex_flow": null,
            "grid_area": null,
            "grid_auto_columns": null,
            "grid_auto_flow": null,
            "grid_auto_rows": null,
            "grid_column": null,
            "grid_gap": null,
            "grid_row": null,
            "grid_template_areas": null,
            "grid_template_columns": null,
            "grid_template_rows": null,
            "height": null,
            "justify_content": null,
            "justify_items": null,
            "left": null,
            "margin": null,
            "max_height": null,
            "max_width": null,
            "min_height": null,
            "min_width": null,
            "object_fit": null,
            "object_position": null,
            "order": null,
            "overflow": null,
            "overflow_x": null,
            "overflow_y": null,
            "padding": null,
            "right": null,
            "top": null,
            "visibility": null,
            "width": null
          }
        },
        "2b764e55c61f4cdc88d66d75db1c6ea9": {
          "model_module": "@jupyter-widgets/controls",
          "model_name": "DescriptionStyleModel",
          "model_module_version": "1.5.0",
          "state": {
            "_model_module": "@jupyter-widgets/controls",
            "_model_module_version": "1.5.0",
            "_model_name": "DescriptionStyleModel",
            "_view_count": null,
            "_view_module": "@jupyter-widgets/base",
            "_view_module_version": "1.2.0",
            "_view_name": "StyleView",
            "description_width": ""
          }
        },
        "d80901c13fec4505a1ee8fd0b6c42e2b": {
          "model_module": "@jupyter-widgets/base",
          "model_name": "LayoutModel",
          "model_module_version": "1.2.0",
          "state": {
            "_model_module": "@jupyter-widgets/base",
            "_model_module_version": "1.2.0",
            "_model_name": "LayoutModel",
            "_view_count": null,
            "_view_module": "@jupyter-widgets/base",
            "_view_module_version": "1.2.0",
            "_view_name": "LayoutView",
            "align_content": null,
            "align_items": null,
            "align_self": null,
            "border": null,
            "bottom": null,
            "display": null,
            "flex": null,
            "flex_flow": null,
            "grid_area": null,
            "grid_auto_columns": null,
            "grid_auto_flow": null,
            "grid_auto_rows": null,
            "grid_column": null,
            "grid_gap": null,
            "grid_row": null,
            "grid_template_areas": null,
            "grid_template_columns": null,
            "grid_template_rows": null,
            "height": null,
            "justify_content": null,
            "justify_items": null,
            "left": null,
            "margin": null,
            "max_height": null,
            "max_width": null,
            "min_height": null,
            "min_width": null,
            "object_fit": null,
            "object_position": null,
            "order": null,
            "overflow": null,
            "overflow_x": null,
            "overflow_y": null,
            "padding": null,
            "right": null,
            "top": null,
            "visibility": null,
            "width": null
          }
        },
        "e6085767ac0742b4b1667499dece7fe4": {
          "model_module": "@jupyter-widgets/controls",
          "model_name": "ProgressStyleModel",
          "model_module_version": "1.5.0",
          "state": {
            "_model_module": "@jupyter-widgets/controls",
            "_model_module_version": "1.5.0",
            "_model_name": "ProgressStyleModel",
            "_view_count": null,
            "_view_module": "@jupyter-widgets/base",
            "_view_module_version": "1.2.0",
            "_view_name": "StyleView",
            "bar_color": null,
            "description_width": ""
          }
        },
        "82f1ddfb140243b5898415e001df820d": {
          "model_module": "@jupyter-widgets/base",
          "model_name": "LayoutModel",
          "model_module_version": "1.2.0",
          "state": {
            "_model_module": "@jupyter-widgets/base",
            "_model_module_version": "1.2.0",
            "_model_name": "LayoutModel",
            "_view_count": null,
            "_view_module": "@jupyter-widgets/base",
            "_view_module_version": "1.2.0",
            "_view_name": "LayoutView",
            "align_content": null,
            "align_items": null,
            "align_self": null,
            "border": null,
            "bottom": null,
            "display": null,
            "flex": null,
            "flex_flow": null,
            "grid_area": null,
            "grid_auto_columns": null,
            "grid_auto_flow": null,
            "grid_auto_rows": null,
            "grid_column": null,
            "grid_gap": null,
            "grid_row": null,
            "grid_template_areas": null,
            "grid_template_columns": null,
            "grid_template_rows": null,
            "height": null,
            "justify_content": null,
            "justify_items": null,
            "left": null,
            "margin": null,
            "max_height": null,
            "max_width": null,
            "min_height": null,
            "min_width": null,
            "object_fit": null,
            "object_position": null,
            "order": null,
            "overflow": null,
            "overflow_x": null,
            "overflow_y": null,
            "padding": null,
            "right": null,
            "top": null,
            "visibility": null,
            "width": null
          }
        },
        "ce8c763e15fc43aa884627e1faadaa41": {
          "model_module": "@jupyter-widgets/controls",
          "model_name": "DescriptionStyleModel",
          "model_module_version": "1.5.0",
          "state": {
            "_model_module": "@jupyter-widgets/controls",
            "_model_module_version": "1.5.0",
            "_model_name": "DescriptionStyleModel",
            "_view_count": null,
            "_view_module": "@jupyter-widgets/base",
            "_view_module_version": "1.2.0",
            "_view_name": "StyleView",
            "description_width": ""
          }
        }
      }
    }
  },
  "cells": [
    {
      "cell_type": "code",
      "execution_count": null,
      "metadata": {
        "id": "pi-Y3_K0QqG6"
      },
      "outputs": [],
      "source": [
        "#Tensors\n",
        "import torch\n"
      ]
    },
    {
      "cell_type": "code",
      "source": [
        "#1D 0 tensor\n",
        "x = torch.empty(3)\n",
        "print(x)"
      ],
      "metadata": {
        "colab": {
          "base_uri": "https://localhost:8080/"
        },
        "id": "prcetfdoRtUd",
        "outputId": "3ba84f88-a8f2-4a20-8c00-7643340df148"
      },
      "execution_count": null,
      "outputs": [
        {
          "output_type": "stream",
          "name": "stdout",
          "text": [
            "tensor([1.4534e-35, 0.0000e+00, 3.3631e-44])\n"
          ]
        }
      ]
    },
    {
      "cell_type": "code",
      "source": [
        "#2D empty tensor\n",
        "x = torch.empty(2,3)\n",
        "print(x)"
      ],
      "metadata": {
        "colab": {
          "base_uri": "https://localhost:8080/"
        },
        "id": "bLOkjaaVSLms",
        "outputId": "1a59b66e-6144-4e76-c186-1f3d172e1fef"
      },
      "execution_count": null,
      "outputs": [
        {
          "output_type": "stream",
          "name": "stdout",
          "text": [
            "tensor([[1.4534e-35, 0.0000e+00, 5.0447e-44],\n",
            "        [0.0000e+00,        nan, 0.0000e+00]])\n"
          ]
        }
      ]
    },
    {
      "cell_type": "code",
      "source": [
        "#4D empty tensor\n",
        "x = torch.empty(2,2,1,5)\n"
      ],
      "metadata": {
        "id": "am7qx33rSdbU"
      },
      "execution_count": null,
      "outputs": []
    },
    {
      "cell_type": "code",
      "source": [
        "x = torch.rand(2,3)\n",
        "print(x)"
      ],
      "metadata": {
        "colab": {
          "base_uri": "https://localhost:8080/"
        },
        "id": "gJlDhnaiSqMp",
        "outputId": "155bd374-a868-4344-92f6-13481abeb761"
      },
      "execution_count": null,
      "outputs": [
        {
          "output_type": "stream",
          "name": "stdout",
          "text": [
            "tensor([[0.0309, 0.2578, 0.4639],\n",
            "        [0.1590, 0.8325, 0.8164]])\n"
          ]
        }
      ]
    },
    {
      "cell_type": "code",
      "source": [
        "x = torch.zeros(2,3)\n",
        "print(x)"
      ],
      "metadata": {
        "colab": {
          "base_uri": "https://localhost:8080/"
        },
        "id": "q3QaytV4S6wr",
        "outputId": "79f474a7-a114-464e-9318-f7e79630da39"
      },
      "execution_count": null,
      "outputs": [
        {
          "output_type": "stream",
          "name": "stdout",
          "text": [
            "tensor([[0., 0., 0.],\n",
            "        [0., 0., 0.]])\n"
          ]
        }
      ]
    },
    {
      "cell_type": "code",
      "source": [
        "x = torch.ones(2,3)\n",
        "print(x)"
      ],
      "metadata": {
        "colab": {
          "base_uri": "https://localhost:8080/"
        },
        "id": "A1CnSM28TBrY",
        "outputId": "71964644-a91a-4d70-a7b0-f4f98f932d43"
      },
      "execution_count": null,
      "outputs": [
        {
          "output_type": "stream",
          "name": "stdout",
          "text": [
            "tensor([[1., 1., 1.],\n",
            "        [1., 1., 1.]])\n"
          ]
        }
      ]
    },
    {
      "cell_type": "code",
      "source": [
        "print(x.dtype)"
      ],
      "metadata": {
        "colab": {
          "base_uri": "https://localhost:8080/"
        },
        "id": "yp27K-_hTGll",
        "outputId": "eea18fc6-4560-49f9-d960-567f37270e4b"
      },
      "execution_count": null,
      "outputs": [
        {
          "output_type": "stream",
          "name": "stdout",
          "text": [
            "torch.float32\n"
          ]
        }
      ]
    },
    {
      "cell_type": "code",
      "source": [
        "x = torch.ones(2,3, dtype = torch.float16)\n",
        "print(x)"
      ],
      "metadata": {
        "colab": {
          "base_uri": "https://localhost:8080/"
        },
        "id": "XKM4N09VTLUG",
        "outputId": "e788a302-92d3-4af0-edd0-0dae769a7fec"
      },
      "execution_count": null,
      "outputs": [
        {
          "output_type": "stream",
          "name": "stdout",
          "text": [
            "tensor([[1., 1., 1.],\n",
            "        [1., 1., 1.]], dtype=torch.float16)\n"
          ]
        }
      ]
    },
    {
      "cell_type": "code",
      "source": [
        "x = torch.tensor([2.5, 0.1])"
      ],
      "metadata": {
        "id": "qDXVvQrZTcyQ"
      },
      "execution_count": null,
      "outputs": []
    },
    {
      "cell_type": "code",
      "source": [
        "x = torch.rand(2,2)\n",
        "y = torch.rand(2,2)\n",
        "print(x)\n",
        "print(y)"
      ],
      "metadata": {
        "colab": {
          "base_uri": "https://localhost:8080/"
        },
        "id": "gL8lJ7p9Tl_7",
        "outputId": "68c06f5a-e280-4ab9-9d9c-1e239bd9236f"
      },
      "execution_count": null,
      "outputs": [
        {
          "output_type": "stream",
          "name": "stdout",
          "text": [
            "tensor([[0.9273, 0.8087],\n",
            "        [0.1758, 0.4616]])\n",
            "tensor([[0.9147, 0.7566],\n",
            "        [0.4322, 0.4772]])\n"
          ]
        }
      ]
    },
    {
      "cell_type": "code",
      "source": [
        "z = x + y\n",
        "print(z)"
      ],
      "metadata": {
        "colab": {
          "base_uri": "https://localhost:8080/"
        },
        "id": "JPQkJX3ZTyUQ",
        "outputId": "dda5ca2d-4089-4cbb-9528-ffcad89b5746"
      },
      "execution_count": null,
      "outputs": [
        {
          "output_type": "stream",
          "name": "stdout",
          "text": [
            "tensor([[1.8421, 1.5653],\n",
            "        [0.6080, 0.9389]])\n"
          ]
        }
      ]
    },
    {
      "cell_type": "code",
      "source": [
        "y.add_(x)\n",
        "print(y)"
      ],
      "metadata": {
        "colab": {
          "base_uri": "https://localhost:8080/"
        },
        "id": "QMmBU1umT1zx",
        "outputId": "69ff1d09-deb5-452f-8c49-ca324a71680c"
      },
      "execution_count": null,
      "outputs": [
        {
          "output_type": "stream",
          "name": "stdout",
          "text": [
            "tensor([[1.8421, 1.5653],\n",
            "        [0.6080, 0.9389]])\n"
          ]
        }
      ]
    },
    {
      "cell_type": "code",
      "source": [
        "x = torch.rand(5,3)\n",
        "print(x)\n",
        "print(x[:,0])\n",
        "print(x[1,:])"
      ],
      "metadata": {
        "colab": {
          "base_uri": "https://localhost:8080/"
        },
        "id": "TtHje-oPT-3r",
        "outputId": "a7fa2ad0-bdca-4b68-8003-6f09649c37ea"
      },
      "execution_count": null,
      "outputs": [
        {
          "output_type": "stream",
          "name": "stdout",
          "text": [
            "tensor([[0.7588, 0.0215, 0.6310],\n",
            "        [0.4863, 0.3608, 0.4705],\n",
            "        [0.5291, 0.9748, 0.5433],\n",
            "        [0.4844, 0.0612, 0.6503],\n",
            "        [0.1149, 0.1005, 0.2327]])\n",
            "tensor([0.7588, 0.4863, 0.5291, 0.4844, 0.1149])\n",
            "tensor([0.4863, 0.3608, 0.4705])\n"
          ]
        }
      ]
    },
    {
      "cell_type": "code",
      "source": [
        "x = torch.rand(4,4)\n",
        "print(x)\n",
        "y = x.view(-1, 8)\n",
        "print(y)"
      ],
      "metadata": {
        "colab": {
          "base_uri": "https://localhost:8080/"
        },
        "id": "s9pyBdasUWjP",
        "outputId": "7312f335-d928-43af-c81f-c0e0fc159300"
      },
      "execution_count": null,
      "outputs": [
        {
          "output_type": "stream",
          "name": "stdout",
          "text": [
            "tensor([[0.1678, 0.4111, 0.3866, 0.8538],\n",
            "        [0.0203, 0.5153, 0.7419, 0.0820],\n",
            "        [0.8530, 0.5688, 0.8711, 0.3687],\n",
            "        [0.1244, 0.7967, 0.8747, 0.6926]])\n",
            "tensor([[0.1678, 0.4111, 0.3866, 0.8538, 0.0203, 0.5153, 0.7419, 0.0820],\n",
            "        [0.8530, 0.5688, 0.8711, 0.3687, 0.1244, 0.7967, 0.8747, 0.6926]])\n"
          ]
        }
      ]
    },
    {
      "cell_type": "code",
      "source": [
        "import numpy as np\n",
        "a = torch.ones(5)"
      ],
      "metadata": {
        "id": "iflf17FqVA7c"
      },
      "execution_count": null,
      "outputs": []
    },
    {
      "cell_type": "code",
      "source": [
        "b = a.numpy()\n",
        "type(b)"
      ],
      "metadata": {
        "colab": {
          "base_uri": "https://localhost:8080/"
        },
        "id": "S9y3OXsHVODw",
        "outputId": "6f991bf6-841e-4cf6-b457-f511ed89870f"
      },
      "execution_count": null,
      "outputs": [
        {
          "output_type": "execute_result",
          "data": {
            "text/plain": [
              "numpy.ndarray"
            ]
          },
          "metadata": {},
          "execution_count": 17
        }
      ]
    },
    {
      "cell_type": "code",
      "source": [
        "a = np.ones(5)\n",
        "print(a)\n",
        "b = torch.from_numpy(a)\n",
        "print(b)"
      ],
      "metadata": {
        "colab": {
          "base_uri": "https://localhost:8080/"
        },
        "id": "18k5ebCpVUML",
        "outputId": "4d040376-d9bc-439f-f3e4-bfaa325038ba"
      },
      "execution_count": null,
      "outputs": [
        {
          "output_type": "stream",
          "name": "stdout",
          "text": [
            "[1. 1. 1. 1. 1.]\n",
            "tensor([1., 1., 1., 1., 1.], dtype=torch.float64)\n"
          ]
        }
      ]
    },
    {
      "cell_type": "code",
      "source": [
        "a+=1\n",
        "print(a)\n",
        "print(b)"
      ],
      "metadata": {
        "colab": {
          "base_uri": "https://localhost:8080/"
        },
        "id": "aFIiDFjxV6rK",
        "outputId": "7cf72d5d-9e59-4ae9-bfd1-d378c451bb2f"
      },
      "execution_count": null,
      "outputs": [
        {
          "output_type": "stream",
          "name": "stdout",
          "text": [
            "[2. 2. 2. 2. 2.]\n",
            "tensor([2., 2., 2., 2., 2.], dtype=torch.float64)\n"
          ]
        }
      ]
    },
    {
      "cell_type": "code",
      "source": [
        "if torch.cuda.is_available() == False:\n",
        "  print(x)"
      ],
      "metadata": {
        "colab": {
          "base_uri": "https://localhost:8080/"
        },
        "id": "k8RtMb9FWBrP",
        "outputId": "efe19e26-c015-4c8c-9137-5d132e5b505e"
      },
      "execution_count": null,
      "outputs": [
        {
          "output_type": "stream",
          "name": "stdout",
          "text": [
            "tensor([[0.1678, 0.4111, 0.3866, 0.8538],\n",
            "        [0.0203, 0.5153, 0.7419, 0.0820],\n",
            "        [0.8530, 0.5688, 0.8711, 0.3687],\n",
            "        [0.1244, 0.7967, 0.8747, 0.6926]])\n"
          ]
        }
      ]
    },
    {
      "cell_type": "code",
      "source": [
        "device = torch.device(\"cpu\")"
      ],
      "metadata": {
        "id": "dQxMEoMNWTCr"
      },
      "execution_count": null,
      "outputs": []
    },
    {
      "cell_type": "code",
      "source": [
        "x = torch.ones(5, device = device)\n",
        "y = torch.ones(5,)\n",
        "y.to(device)\n",
        "z = x + y"
      ],
      "metadata": {
        "id": "rQ7gHChRWmtY"
      },
      "execution_count": null,
      "outputs": []
    },
    {
      "cell_type": "code",
      "source": [
        "z = z.to(\"cpu\")"
      ],
      "metadata": {
        "id": "BHGM8XGyXGKL"
      },
      "execution_count": null,
      "outputs": []
    },
    {
      "cell_type": "code",
      "source": [
        "x = torch.ones(5, requires_grad = True)\n",
        "print(x)"
      ],
      "metadata": {
        "colab": {
          "base_uri": "https://localhost:8080/"
        },
        "id": "XFXcZogSXNha",
        "outputId": "bd3c4e16-a8f5-444b-fc80-c20d6820d380"
      },
      "execution_count": null,
      "outputs": [
        {
          "output_type": "stream",
          "name": "stdout",
          "text": [
            "tensor([1., 1., 1., 1., 1.], requires_grad=True)\n"
          ]
        }
      ]
    },
    {
      "cell_type": "code",
      "source": [
        "x = torch.tensor([4.0], requires_grad = True)\n",
        "y = x**2\n",
        "y.backward()\n",
        "print(x.grad)"
      ],
      "metadata": {
        "colab": {
          "base_uri": "https://localhost:8080/"
        },
        "id": "nUVbrh7hXcsw",
        "outputId": "c31ab649-2a1d-498f-e863-b2981da21326"
      },
      "execution_count": null,
      "outputs": [
        {
          "output_type": "stream",
          "name": "stdout",
          "text": [
            "tensor([8.])\n"
          ]
        }
      ]
    },
    {
      "cell_type": "code",
      "source": [
        "x = torch.tensor([2.0], requires_grad = True)\n",
        "y = torch.tensor([1.0], requires_grad = True)\n",
        "\n",
        "z = x**2 + y**2\n",
        "z.backward()\n",
        "print(x.grad, y.grad)"
      ],
      "metadata": {
        "colab": {
          "base_uri": "https://localhost:8080/"
        },
        "id": "eC6ST6XpYXa7",
        "outputId": "e4b183d5-b87d-4524-be39-f88a92882cf2"
      },
      "execution_count": null,
      "outputs": [
        {
          "output_type": "stream",
          "name": "stdout",
          "text": [
            "tensor([4.]) tensor([2.])\n"
          ]
        }
      ]
    },
    {
      "cell_type": "code",
      "source": [
        "x = torch.rand(3, requires_grad = True)\n",
        "print(x)\n",
        "\n",
        "y = x + 2\n",
        "print(y)\n"
      ],
      "metadata": {
        "id": "hy_MWAmsZukR",
        "colab": {
          "base_uri": "https://localhost:8080/"
        },
        "outputId": "8e6658aa-352f-4c2c-96ac-faae8d6057ce"
      },
      "execution_count": null,
      "outputs": [
        {
          "output_type": "stream",
          "name": "stdout",
          "text": [
            "tensor([0.4241, 0.1464, 0.7067], requires_grad=True)\n",
            "tensor([2.4241, 2.1464, 2.7067], grad_fn=<AddBackward0>)\n"
          ]
        }
      ]
    },
    {
      "cell_type": "code",
      "source": [
        "z = y*y*2\n",
        "z = z.mean()\n",
        "print(z)\n",
        "print(x.grad)"
      ],
      "metadata": {
        "colab": {
          "base_uri": "https://localhost:8080/"
        },
        "id": "T9haovHSwfDT",
        "outputId": "b17b26d3-e6c6-4577-8c21-ac7de0cafdf1"
      },
      "execution_count": null,
      "outputs": [
        {
          "output_type": "stream",
          "name": "stdout",
          "text": [
            "tensor(11.8731, grad_fn=<MeanBackward0>)\n",
            "None\n"
          ]
        }
      ]
    },
    {
      "cell_type": "code",
      "source": [
        "v = torch.tensor([0.1 ,1.0, 0.001], dtype = torch.float32)\n",
        "print(v.grad)"
      ],
      "metadata": {
        "colab": {
          "base_uri": "https://localhost:8080/"
        },
        "id": "rlu-bUIbxHEf",
        "outputId": "66c5498a-ba2f-4247-c484-dcd606b43d91"
      },
      "execution_count": null,
      "outputs": [
        {
          "output_type": "stream",
          "name": "stdout",
          "text": [
            "None\n"
          ]
        }
      ]
    },
    {
      "cell_type": "code",
      "source": [
        "z = y*y*2\n",
        "print(z.backward(v))\n",
        "x.grad"
      ],
      "metadata": {
        "colab": {
          "base_uri": "https://localhost:8080/"
        },
        "id": "aNAw6EMQyKti",
        "outputId": "9979b674-0b3b-4e0e-d38b-5421fa2df19d"
      },
      "execution_count": null,
      "outputs": [
        {
          "output_type": "stream",
          "name": "stdout",
          "text": [
            "None\n"
          ]
        },
        {
          "output_type": "execute_result",
          "data": {
            "text/plain": [
              "tensor([0.9697, 8.5857, 0.0108])"
            ]
          },
          "metadata": {},
          "execution_count": 30
        }
      ]
    },
    {
      "cell_type": "code",
      "source": [
        "x.requires_grad_(False)"
      ],
      "metadata": {
        "colab": {
          "base_uri": "https://localhost:8080/"
        },
        "id": "3uYUvskQyc4H",
        "outputId": "8864c1bd-6f16-46db-e6b1-3db9cf3d0fec"
      },
      "execution_count": null,
      "outputs": [
        {
          "output_type": "execute_result",
          "data": {
            "text/plain": [
              "tensor([0.4241, 0.1464, 0.7067])"
            ]
          },
          "metadata": {},
          "execution_count": 31
        }
      ]
    },
    {
      "cell_type": "code",
      "source": [
        "w = x.detach()\n",
        "print(y)"
      ],
      "metadata": {
        "colab": {
          "base_uri": "https://localhost:8080/"
        },
        "id": "vERUlsuNzPlE",
        "outputId": "e5bbbf68-693f-436c-e44b-84cc536cb0b8"
      },
      "execution_count": null,
      "outputs": [
        {
          "output_type": "stream",
          "name": "stdout",
          "text": [
            "tensor([2.4241, 2.1464, 2.7067], grad_fn=<AddBackward0>)\n"
          ]
        }
      ]
    },
    {
      "cell_type": "code",
      "source": [
        "with torch.no_grad():\n",
        "  y = x + 2\n",
        "  print(y)"
      ],
      "metadata": {
        "colab": {
          "base_uri": "https://localhost:8080/"
        },
        "id": "M-LTY48ozegr",
        "outputId": "df2cef89-2792-46cc-b88c-f041d2e1ef08"
      },
      "execution_count": null,
      "outputs": [
        {
          "output_type": "stream",
          "name": "stdout",
          "text": [
            "tensor([2.4241, 2.1464, 2.7067])\n"
          ]
        }
      ]
    },
    {
      "cell_type": "code",
      "source": [
        "weights = torch.ones(4, requires_grad = True)\n",
        "for iterate in range(3):\n",
        "  model_output = (weights*3).sum()\n",
        "\n",
        "  model_output.backward()\n",
        "\n",
        "  print(weights.grad)\n",
        "\n",
        "  weights.grad.zero_() #empty gradients"
      ],
      "metadata": {
        "colab": {
          "base_uri": "https://localhost:8080/"
        },
        "id": "3lKEIz3bzoyi",
        "outputId": "030a34d6-5c50-475a-cf77-deb4ee142c92"
      },
      "execution_count": null,
      "outputs": [
        {
          "output_type": "stream",
          "name": "stdout",
          "text": [
            "tensor([3., 3., 3., 3.])\n",
            "tensor([3., 3., 3., 3.])\n",
            "tensor([3., 3., 3., 3.])\n"
          ]
        }
      ]
    },
    {
      "cell_type": "code",
      "source": [
        "#backpropagation\n",
        "x = torch.tensor(1.0)\n",
        "y = torch.tensor(2.0)\n",
        "\n",
        "w = torch.tensor(1.0, requires_grad = True)\n",
        "#forward pass\n",
        "y_hat = w*x\n",
        "loss = (y_hat - y)**2\n",
        "print(loss)\n",
        "\n",
        "#backward pass\n",
        "loss.backward()\n",
        "print(w.grad)\n",
        "\n",
        "#update weights\n",
        "\n",
        "#"
      ],
      "metadata": {
        "id": "JV7RMaKE0NMJ",
        "colab": {
          "base_uri": "https://localhost:8080/"
        },
        "outputId": "949c4aa2-3c32-42d9-b58e-a1c3708f9fd5"
      },
      "execution_count": null,
      "outputs": [
        {
          "output_type": "stream",
          "name": "stdout",
          "text": [
            "tensor(1., grad_fn=<PowBackward0>)\n",
            "tensor(-2.)\n"
          ]
        }
      ]
    },
    {
      "cell_type": "code",
      "source": [
        "X = np.array([1,2,3,4], dtype = np.float32)\n",
        "Y = np.array([2,4,6,8], dtype = np.float32)\n",
        "def f(x):\n",
        "  return 2*x\n",
        "w = 0.0\n",
        "\n",
        "#model prediction\n",
        "\n",
        "def forward(x):\n",
        "  return w*x\n",
        "print(forward(X))\n",
        "def loss(y, y_predicted):\n",
        "  return ((y - y_predicted)**2).mean()\n",
        "\n",
        "def gradient(x, y, y_predicted):\n",
        "  return np.dot(2*x, y_predicted - y).mean()\n",
        "\n",
        "learning_rate = 0.01\n",
        "\n",
        "n_iters = 20\n",
        "\n",
        "for epoch in range(n_iters):\n",
        "  y_pred  = forward(X)\n",
        "  l = loss(Y, y_pred)\n",
        "  dw = gradient(X, Y, y_pred)\n",
        "  w-= learning_rate*dw\n",
        "\n",
        "  if epoch % 1 == 0:\n",
        "    print(w,\"   \", l)\n",
        "print(f(5))"
      ],
      "metadata": {
        "id": "u7HYa31d0vT5",
        "colab": {
          "base_uri": "https://localhost:8080/"
        },
        "outputId": "0ae9498b-53e7-4dbd-a97f-ccfe93c11406"
      },
      "execution_count": null,
      "outputs": [
        {
          "output_type": "stream",
          "name": "stdout",
          "text": [
            "[0. 0. 0. 0.]\n",
            "1.2     30.0\n",
            "1.6799999618530272     4.799999\n",
            "1.871999988555908     0.7680002\n",
            "1.9487999868392942     0.12288\n",
            "1.9795200133323667     0.019660834\n",
            "1.9918080282211301     0.0031457357\n",
            "1.9967231869697568     0.000503308\n",
            "1.99868928194046     8.053186e-05\n",
            "1.999475698471069     1.2884395e-05\n",
            "1.999790253639221     2.0613531e-06\n",
            "1.9999160599708554     3.29734e-07\n",
            "1.9999664139747617     5.2823452e-08\n",
            "1.9999865984916685     8.487817e-09\n",
            "1.9999946093559262     1.3369572e-09\n",
            "1.9999978351593015     2.1679014e-10\n",
            "1.9999991369247434     3.5313974e-11\n",
            "1.9999996304512022     5.076828e-12\n",
            "1.999999837875366     8.9883656e-13\n",
            "1.9999999165534972     1.314504e-13\n",
            "1.9999999952316283     1.314504e-13\n",
            "10\n"
          ]
        }
      ]
    },
    {
      "cell_type": "code",
      "source": [
        "X = torch.tensor([1,2,3,4], dtype = torch.float32)\n",
        "Y = torch.tensor([2,4,6,8], dtype = torch.float32)\n",
        "w = torch.tensor(0.0, dtype = torch.float32, requires_grad = True)\n",
        "\n",
        "#model prediction\n",
        "\n",
        "def forward(x):\n",
        "  return w*x\n",
        "def loss(y, y_predicted):\n",
        "  return ((y - y_predicted)**2).mean()\n",
        "\n",
        "\n",
        "\n",
        "learning_rate = 0.01\n",
        "\n",
        "n_iters = 100\n",
        "\n",
        "for epoch in range(n_iters):\n",
        "  y_pred  = forward (X)\n",
        "  l = loss(Y, y_pred)\n",
        "  dw = l.backward()\n",
        "  with torch.no_grad():\n",
        "  #dw = gradient(X, Y, y_pred)\n",
        "    w-= learning_rate*w.grad\n",
        "  w.grad.zero_()\n",
        "  if epoch % 10 == 0:\n",
        "    print(w, l)\n",
        "\n"
      ],
      "metadata": {
        "colab": {
          "base_uri": "https://localhost:8080/"
        },
        "id": "LIDhX46lJSMp",
        "outputId": "09c18950-afb2-4e57-8fc0-6f65685a0003"
      },
      "execution_count": null,
      "outputs": [
        {
          "output_type": "stream",
          "name": "stdout",
          "text": [
            "tensor(0.3000, requires_grad=True) tensor(30., grad_fn=<MeanBackward0>)\n",
            "tensor(1.6653, requires_grad=True) tensor(1.1628, grad_fn=<MeanBackward0>)\n",
            "tensor(1.9341, requires_grad=True) tensor(0.0451, grad_fn=<MeanBackward0>)\n",
            "tensor(1.9870, requires_grad=True) tensor(0.0017, grad_fn=<MeanBackward0>)\n",
            "tensor(1.9974, requires_grad=True) tensor(6.7705e-05, grad_fn=<MeanBackward0>)\n",
            "tensor(1.9995, requires_grad=True) tensor(2.6244e-06, grad_fn=<MeanBackward0>)\n",
            "tensor(1.9999, requires_grad=True) tensor(1.0176e-07, grad_fn=<MeanBackward0>)\n",
            "tensor(2.0000, requires_grad=True) tensor(3.9742e-09, grad_fn=<MeanBackward0>)\n",
            "tensor(2.0000, requires_grad=True) tensor(1.4670e-10, grad_fn=<MeanBackward0>)\n",
            "tensor(2.0000, requires_grad=True) tensor(5.0768e-12, grad_fn=<MeanBackward0>)\n"
          ]
        }
      ]
    },
    {
      "cell_type": "code",
      "source": [
        "import torch\n",
        "import torch.nn as nn\n",
        "import torch.nn.functional as F\n",
        "import torchvision\n",
        "import torchvision.transforms as transforms\n",
        "import matplotlib.pyplot as plt\n",
        "import numpy as np\n",
        "\n",
        "device = torch.device('cuda' if torch.cuda.is_available() else 'cpu')\n",
        "\n",
        "num_epochs = 4\n",
        "batch_size = 4\n",
        "learning_rate = 0.001\n",
        "\n",
        "\n",
        "\n",
        "transform = transforms.Compose(\n",
        "    [transforms.ToTensor(),\n",
        "     transforms.Normalize((0.5, 0.5, 0.5),(0.5, 0.5, 0.5))])\n",
        "\n",
        "\n",
        "train_dataset = torchvision.datasets.CIFAR10(root = '/data', train = True, download = True, transform = transform)\n",
        "test_dataset = torchvision.datasets.CIFAR10(root = '/data', train = False, download = True, transform = transform)\n",
        "train_loader = torch.utils.data.DataLoader(train_dataset, batch_size = batch_size, shuffle = True)\n",
        "test_loader = torch.utils.data.DataLoader(test_dataset, batch_size = batch_size, shuffle = False)\n",
        "\n",
        "\n",
        "classes = ('plane', 'car', 'bird', 'cat', 'deer', 'dog', 'frog', 'horse', 'ship', 'truck'\n",
        ")\n",
        "\n",
        "class ConvNet(nn.Module):\n",
        "    def __init__(self):\n",
        "        super(ConvNet, self).__init__()\n",
        "        self.conv1 = nn.Conv2d(3, 6, 5)\n",
        "        self.pool = nn.MaxPool2d(2, 2)\n",
        "        self.conv2 = nn.Conv2d(6, 16, 5)\n",
        "        self.fc1 = nn.Linear(16*5*5, 120)\n",
        "        self.fc2 = nn.Linear(120, 84)\n",
        "        self.fc3 = nn.Linear(84, 10)\n",
        "    def forward(self, x):\n",
        "        x = self.pool(F.relu(self.conv1(x)))\n",
        "        x = self.pool(F.relu(self.conv2(x)))\n",
        "        x = x.view(-1, 16*5*5)\n",
        "        x = F.relu(self.fc1(x))\n",
        "        x = F.relu(self.fc2(x))\n",
        "        x = self.fc3(x)\n",
        "        return x\n",
        "\n",
        "model = ConvNet().to(device)\n",
        "\n",
        "criterion = nn.CrossEntropyLoss()\n",
        "optimizer = torch.optim.SGD(model.parameters(), lr = learning_rate)\n",
        "\n",
        "n_total_steps = len(train_loader)\n",
        "for epoch in range(num_epochs):\n",
        "    for i, (images, labels) in enumerate(train_loader):\n",
        "        images = images.to(device)\n",
        "        labels = labels.to(device)\n",
        "\n",
        "        outputs = model(images)\n",
        "        loss = criterion(outputs, labels)\n",
        "\n",
        "        optimizer.zero_grad()\n",
        "        loss.backward()\n",
        "        optimizer.step()\n",
        "\n",
        "        if (i+1) % 2000 == 0:\n",
        "            print((epoch+1/num_epochs), ((i+1)/n_total_steps), loss.item)\n",
        "print('Finished')\n",
        "\n",
        "with torch.no_grad():\n",
        "    n_correct = 0\n",
        "    n_samples = 0\n",
        "    n_class_correct = [0 for i in range(10)]\n",
        "    n_class_samples = [0 for i in range(10)]\n",
        "    for images, labels in test_loader:\n",
        "        images = images.to(device)\n",
        "        labels = labels.to(device)\n",
        "        outputs = model(images)\n",
        "        \n",
        "        \n",
        "        _, predicted = torch.max(outputs, 1)\n",
        "        n_samples += labels.size(0)\n",
        "        n_correct += (predicted == labels).sum().item()\n",
        "        \n",
        "        for i in range(batch_size):\n",
        "            label = labels[i]\n",
        "            pred = predicted[i]\n",
        "            if (label == pred):\n",
        "                n_class_correct[label] += 1\n",
        "            n_class_samples[label] += 1\n"
      ],
      "metadata": {
        "id": "qRpulNRpN4DW",
        "colab": {
          "base_uri": "https://localhost:8080/",
          "height": 535,
          "referenced_widgets": [
            "d0c137c70d5243dd8b9e1e0709e50858",
            "06cf274e877344719fcd9d0dcbc8cce9",
            "8511029b1db845d4a907192cbf7177aa",
            "a76a4c3066fe4816ba019fbe661634f0",
            "5fd42e3a0a944b97b1dabb97ac75fafe",
            "a889bd75f5a34520975155320ca8d260",
            "2b764e55c61f4cdc88d66d75db1c6ea9",
            "d80901c13fec4505a1ee8fd0b6c42e2b",
            "e6085767ac0742b4b1667499dece7fe4",
            "82f1ddfb140243b5898415e001df820d",
            "ce8c763e15fc43aa884627e1faadaa41"
          ]
        },
        "outputId": "01c6e6e0-f706-41c7-8284-64662e19d302"
      },
      "execution_count": null,
      "outputs": [
        {
          "output_type": "stream",
          "name": "stdout",
          "text": [
            "Downloading https://www.cs.toronto.edu/~kriz/cifar-10-python.tar.gz to /data/cifar-10-python.tar.gz\n"
          ]
        },
        {
          "output_type": "display_data",
          "data": {
            "text/plain": [
              "  0%|          | 0/170498071 [00:00<?, ?it/s]"
            ],
            "application/vnd.jupyter.widget-view+json": {
              "version_major": 2,
              "version_minor": 0,
              "model_id": "d0c137c70d5243dd8b9e1e0709e50858"
            }
          },
          "metadata": {}
        },
        {
          "output_type": "stream",
          "name": "stdout",
          "text": [
            "Extracting /data/cifar-10-python.tar.gz to /data\n",
            "Files already downloaded and verified\n",
            "0.25 0.16 <built-in method item of Tensor object at 0x7f32ddb2d590>\n",
            "0.25 0.32 <built-in method item of Tensor object at 0x7f32ddb2d1d0>\n",
            "0.25 0.48 <built-in method item of Tensor object at 0x7f32ddb2d890>\n",
            "0.25 0.64 <built-in method item of Tensor object at 0x7f32ddb2d4d0>\n",
            "0.25 0.8 <built-in method item of Tensor object at 0x7f32ddb2d1d0>\n",
            "0.25 0.96 <built-in method item of Tensor object at 0x7f32ddb2d650>\n",
            "1.25 0.16 <built-in method item of Tensor object at 0x7f32ddb2d890>\n",
            "1.25 0.32 <built-in method item of Tensor object at 0x7f32ddb2d590>\n",
            "1.25 0.48 <built-in method item of Tensor object at 0x7f32ddb2d290>\n",
            "1.25 0.64 <built-in method item of Tensor object at 0x7f32ddb2d290>\n",
            "1.25 0.8 <built-in method item of Tensor object at 0x7f32ddb2d1d0>\n",
            "1.25 0.96 <built-in method item of Tensor object at 0x7f32ddb2d5f0>\n",
            "2.25 0.16 <built-in method item of Tensor object at 0x7f32ddb2d530>\n",
            "2.25 0.32 <built-in method item of Tensor object at 0x7f32ddb2d110>\n",
            "2.25 0.48 <built-in method item of Tensor object at 0x7f32ddb2d410>\n",
            "2.25 0.64 <built-in method item of Tensor object at 0x7f32ddb2d110>\n",
            "2.25 0.8 <built-in method item of Tensor object at 0x7f32ddb2d590>\n",
            "2.25 0.96 <built-in method item of Tensor object at 0x7f32ddb2d650>\n",
            "3.25 0.16 <built-in method item of Tensor object at 0x7f32ddb2d710>\n",
            "3.25 0.32 <built-in method item of Tensor object at 0x7f32ddb2d890>\n",
            "3.25 0.48 <built-in method item of Tensor object at 0x7f32ddb2d110>\n",
            "3.25 0.64 <built-in method item of Tensor object at 0x7f32ddb2d530>\n",
            "3.25 0.8 <built-in method item of Tensor object at 0x7f32ddb2d590>\n",
            "3.25 0.96 <built-in method item of Tensor object at 0x7f32ddb2d110>\n",
            "Finished\n"
          ]
        }
      ]
    },
    {
      "cell_type": "code",
      "source": [],
      "metadata": {
        "id": "JtgCO6ze8adR"
      },
      "execution_count": null,
      "outputs": []
    }
  ]
}